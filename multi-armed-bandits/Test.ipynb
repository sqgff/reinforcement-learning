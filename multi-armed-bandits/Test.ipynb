{
 "cells": [
  {
   "cell_type": "code",
   "execution_count": 24,
   "metadata": {},
   "outputs": [],
   "source": [
    "import numpy as np\n",
    "import arms\n",
    "import matplotlib.pyplot as plt"
   ]
  },
  {
   "cell_type": "code",
   "execution_count": 44,
   "metadata": {},
   "outputs": [],
   "source": [
    "def produce_loss_sequence(env, T, env_change=False, new_env=None, change_time=None):\n",
    "    K = len(env)\n",
    "    loss_sequence = []\n",
    "    if env_change:\n",
    "        for _ in range(change_time):\n",
    "            loss_sequence.append([arm.sample() for arm in env])\n",
    "        for _ in range(int(T - change_time)):\n",
    "            loss_sequence.append([arm.sample() for arm in new_env])\n",
    "    else:\n",
    "        for _ in range(T):\n",
    "            loss_seqeunce.append([arm.sample() for arm in env])\n",
    "    return np.array(loss_sequence)"
   ]
  },
  {
   "cell_type": "code",
   "execution_count": 89,
   "metadata": {},
   "outputs": [],
   "source": [
    "def EXP3_IX(loss_sequence, eta, gamma, T):\n",
    "    '''This function implements the EXP3-iX algorithm\n",
    "    env: usered defined environment\n",
    "    eta:\n",
    "    gamma:\n",
    "    T:\n",
    "    '''\n",
    "    K = loss_sequence.shape[1]\n",
    "    w = np.ones(K)\n",
    "    loss = []\n",
    "    draws = []\n",
    "\n",
    "    for i in range(int(T)):\n",
    "        # agent choose arm\n",
    "        #w = w / np.min(w)\n",
    "        w = w / w[0]\n",
    "        p = w / np.sum(w)\n",
    "        #print(i, \":, \", w)\n",
    "        I = np.random.choice(K, p=p)\n",
    "        draws.append(I)\n",
    "\n",
    "        # observe loss\n",
    "        l = loss_sequence[i, I]\n",
    "        loss.append(l)\n",
    "        l = l / (p[I] + gamma)\n",
    "        w[I] = w[I] * np.exp(-eta * l)\n",
    "    return draws, loss"
   ]
  },
  {
   "cell_type": "code",
   "execution_count": 90,
   "metadata": {},
   "outputs": [],
   "source": [
    "def EXP3_P(loss_sequence, eta, gamma, alpha, T):\n",
    "    K = loss_sequence.shape[1]\n",
    "    w = np.ones(K)\n",
    "    w = np.exp(alpha * gamma * np.sqrt(T / K) / 3) * w\n",
    "    \n",
    "    loss = []\n",
    "    draws = []  \n",
    "    \n",
    "    for i in range(int(T)):\n",
    "        w = w / w[0]\n",
    "        p = w / np.sum(w)        \n",
    "        p = (1 - gamma) * p + gamma / K\n",
    "        I = np.random.choice(K, p=p)\n",
    "        draws.append(I)\n",
    "\n",
    "        # observe loss\n",
    "        l = loss_sequence[i, I]\n",
    "        loss.append(l)\n",
    "        \n",
    "        l /= p[I]\n",
    "        x = np.zeros(K)\n",
    "        x[I] += l\n",
    "        \n",
    "        x = x + alpha / np.sqrt(K * T) / p\n",
    "        w = w * np.exp(-eta * x)\n",
    "    return draws, loss"
   ]
  },
  {
   "cell_type": "code",
   "execution_count": 80,
   "metadata": {},
   "outputs": [],
   "source": [
    "random_state = np.random.randint(1, 312414)\n",
    "\n",
    "delta = 0.1\n",
    "# Bernoulli loss arm\n",
    "arm1 = arms.ArmBernoulli(0.50, random_state=random_state)\n",
    "arm2 = arms.ArmBernoulli(0.50, random_state=random_state)\n",
    "arm3 = arms.ArmBernoulli(0.50, random_state=random_state)\n",
    "arm4 = arms.ArmBernoulli(0.50, random_state=random_state)\n",
    "arm5 = arms.ArmBernoulli(0.50, random_state=random_state)\n",
    "arm6 = arms.ArmBernoulli(0.50, random_state=random_state)\n",
    "arm7 = arms.ArmBernoulli(0.50, random_state=random_state)\n",
    "arm8 = arms.ArmBernoulli(0.50, random_state=random_state)\n",
    "arm9 = arms.ArmBernoulli(0.50-delta, random_state=random_state)\n",
    "arm10_1 = arms.ArmBernoulli(0.50+delta, random_state=random_state)\n",
    "arm10_2 = arms.ArmBernoulli(0.50-4*delta, random_state=random_state)\n",
    "\n",
    "MAB1 = [arm1, arm2, arm3, arm4, arm5, arm6, arm7, arm8, arm9, arm10_1]\n",
    "MAB2 = [arm1, arm2, arm3, arm4, arm5, arm6, arm7, arm8, arm9, arm10_2]\n",
    "\n",
    "T = 1e4\n",
    "change_time = int(T/2)\n",
    "\n",
    "loss_sequence = produce_loss_sequence(env=MAB1, T=T, env_change=True, new_env=MAB2, change_time=change_time)\n",
    "\n",
    "single_global_best = np.min(np.sum(loss_sequence, axis=0))\n",
    "single_global_best_2 = np.min(np.sum(loss_sequence[: int(T/2)], axis=0))"
   ]
  },
  {
   "cell_type": "code",
   "execution_count": 112,
   "metadata": {},
   "outputs": [
    {
     "name": "stdout",
     "output_type": "stream",
     "text": [
      "eta: 0.003, regret: 675.940000\n",
      "eta: 0.007, regret: 34.200000\n",
      "eta: 0.016, regret: -322.040000\n",
      "eta: 0.037, regret: -383.800000\n",
      "eta: 0.085, regret: -281.120000\n",
      "eta: 0.193, regret: -60.320000\n",
      "eta: 0.439, regret: 256.400000\n",
      "eta: 1.000, regret: 525.160000\n"
     ]
    }
   ],
   "source": [
    "etas = [10**i for i in np.linspace(-2.5, 0, 8)]\n",
    "repeat = 50\n",
    "regrets = []\n",
    "regrets_2 = []\n",
    "for eta in etas:\n",
    "    tmp = []\n",
    "    tmp_2 = []\n",
    "    gamma = eta / 2\n",
    "    for _ in range(repeat):\n",
    "        _, loss = EXP3_IX(loss_sequence=loss_sequence,\n",
    "                eta=eta,\n",
    "                gamma=gamma,\n",
    "                T=T)\n",
    "        tmp.append(np.sum(loss) - single_global_best)\n",
    "        tmp_2.append(np.sum(loss[:change_time]) - single_global_best_2)\n",
    "    print('eta: %0.3f, regret: %f' % (eta, np.mean(tmp)))\n",
    "    regrets.append(tmp)\n",
    "    regrets_2.append(tmp_2)\n",
    "    \n",
    "regrets = np.array(regrets)\n",
    "regrets_2 = np.array(regrets_2)"
   ]
  },
  {
   "cell_type": "code",
   "execution_count": 124,
   "metadata": {},
   "outputs": [
    {
     "data": {
      "image/png": "[encoded data removed]",
      "text/plain": [
       "<matplotlib.figure.Figure at 0x112783eb8>"
      ]
     },
     "metadata": {},
     "output_type": "display_data"
    }
   ],
   "source": [
    "std_error = np.std(regrets, axis=1)\n",
    "regrets_mean = np.mean(regrets, axis=1)\n",
    "std_error_2 = np.std(regrets_2, axis=1)\n",
    "regrets_mean_2 = np.mean(regrets_2, axis=1)\n",
    "\n",
    "# Two subplots, unpack the axes array immediately\n",
    "f, (ax1, ax2) = plt.subplots(1, 2, sharey=False, figsize=(14, 6))\n",
    "ax1.errorbar(etas, regrets_mean_2, yerr=std_error_2, fmt='-o')\n",
    "ax1.set_xscale('log')\n",
    "ax1.set_xlabel(r'$\\eta$ multiplier', fontsize=14)\n",
    "ax1.set_ylabel(r'Regret at $T/2$', fontsize=14)\n",
    "ax2.errorbar(etas, regrets_mean, yerr=std_error, fmt='-o')\n",
    "ax2.set_xscale('log')\n",
    "ax2.set_xlabel(r'$\\eta$ multiplier', fontsize=14)\n",
    "ax2.set_ylabel(r'Regret at $T$', fontsize=14)\n",
    "plt.show()"
   ]
  }
 ],
 "metadata": {
  "kernelspec": {
   "display_name": "Python 3",
   "language": "python",
   "name": "python3"
  },
  "language_info": {
   "codemirror_mode": {
    "name": "ipython",
    "version": 3
   },
   "file_extension": ".py",
   "mimetype": "text/x-python",
   "name": "python",
   "nbconvert_exporter": "python",
   "pygments_lexer": "ipython3",
   "version": "3.6.4"
  }
 },
 "nbformat": 4,
 "nbformat_minor": 2
}
